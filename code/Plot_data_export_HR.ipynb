{
 "cells": [
  {
   "cell_type": "markdown",
   "metadata": {},
   "source": [
    "## About\n",
    "\n",
    "Notebok to read and plot Heart rate exports from Fitbit\n",
    "\n",
    "- Author : Jal Panchal"
   ]
  },
  {
   "cell_type": "code",
   "execution_count": 136,
   "metadata": {},
   "outputs": [],
   "source": [
    "import numpy as np\n",
    "import os\n",
    "import cv2\n",
    "import json\n",
    "import matplotlib.pyplot as plt\n",
    "from datetime import date, time, datetime"
   ]
  },
  {
   "cell_type": "code",
   "execution_count": 17,
   "metadata": {},
   "outputs": [],
   "source": [
    "with open('./../data/0708_export_jal/PioneerWearable/Physical Activity/heart_rate-2021-07-06.json', 'r') as file:\n",
    "     kp_0331_1 = json.load(file)"
   ]
  },
  {
   "cell_type": "code",
   "execution_count": 18,
   "metadata": {},
   "outputs": [],
   "source": [
    "#get all the json files for heart rate\n",
    "path_to_hr_json = \"./../data/0708_export_jal/PioneerWearable/Physical Activity/\"\n",
    "hr_json_files = [pos_json for pos_json in os.listdir(path_to_hr_json) if pos_json.endswith('.json') and pos_json.startswith('heart_rate')]\n",
    "\n",
    "#sort them based on date\n",
    "hr_json_files = np.sort(hr_json_files)"
   ]
  },
  {
   "cell_type": "code",
   "execution_count": 165,
   "metadata": {},
   "outputs": [],
   "source": [
    "#Read json files and parse date, time and Heart rate in bpm\n",
    "hr_data = pd.DataFrame()\n",
    "for file in hr_json_files:\n",
    "    \n",
    "    temp_list= json.load(open(path_to_hr_json+file))\n",
    "    temp1 = pd.DataFrame(temp_list)\n",
    "    temp2 = pd.DataFrame(temp1.value.tolist())\n",
    "    temp2['dateTime'] = pd.to_datetime(temp1.dateTime, format='%m/%d/%y %H:%M:%S')\n",
    "    \n",
    "    #append data from all days\n",
    "    hr_data = hr_data.append(temp2)\n",
    "    \n",
    "#reset index\n",
    "hr_data = hr_data.reset_index()"
   ]
  },
  {
   "cell_type": "code",
   "execution_count": 166,
   "metadata": {},
   "outputs": [
    {
     "data": {
      "text/html": [
       "<div>\n",
       "<style scoped>\n",
       "    .dataframe tbody tr th:only-of-type {\n",
       "        vertical-align: middle;\n",
       "    }\n",
       "\n",
       "    .dataframe tbody tr th {\n",
       "        vertical-align: top;\n",
       "    }\n",
       "\n",
       "    .dataframe thead th {\n",
       "        text-align: right;\n",
       "    }\n",
       "</style>\n",
       "<table border=\"1\" class=\"dataframe\">\n",
       "  <thead>\n",
       "    <tr style=\"text-align: right;\">\n",
       "      <th></th>\n",
       "      <th>index</th>\n",
       "      <th>bpm</th>\n",
       "      <th>confidence</th>\n",
       "      <th>dateTime</th>\n",
       "    </tr>\n",
       "  </thead>\n",
       "  <tbody>\n",
       "    <tr>\n",
       "      <th>0</th>\n",
       "      <td>0</td>\n",
       "      <td>70</td>\n",
       "      <td>1</td>\n",
       "      <td>2021-05-12 21:56:02</td>\n",
       "    </tr>\n",
       "    <tr>\n",
       "      <th>1</th>\n",
       "      <td>1</td>\n",
       "      <td>80</td>\n",
       "      <td>1</td>\n",
       "      <td>2021-05-12 21:56:07</td>\n",
       "    </tr>\n",
       "    <tr>\n",
       "      <th>2</th>\n",
       "      <td>2</td>\n",
       "      <td>84</td>\n",
       "      <td>1</td>\n",
       "      <td>2021-05-12 21:56:17</td>\n",
       "    </tr>\n",
       "    <tr>\n",
       "      <th>3</th>\n",
       "      <td>3</td>\n",
       "      <td>80</td>\n",
       "      <td>1</td>\n",
       "      <td>2021-05-12 21:56:22</td>\n",
       "    </tr>\n",
       "    <tr>\n",
       "      <th>4</th>\n",
       "      <td>4</td>\n",
       "      <td>77</td>\n",
       "      <td>1</td>\n",
       "      <td>2021-05-12 21:56:27</td>\n",
       "    </tr>\n",
       "    <tr>\n",
       "      <th>...</th>\n",
       "      <td>...</td>\n",
       "      <td>...</td>\n",
       "      <td>...</td>\n",
       "      <td>...</td>\n",
       "    </tr>\n",
       "    <tr>\n",
       "      <th>597366</th>\n",
       "      <td>11496</td>\n",
       "      <td>83</td>\n",
       "      <td>1</td>\n",
       "      <td>2021-07-08 02:14:18</td>\n",
       "    </tr>\n",
       "    <tr>\n",
       "      <th>597367</th>\n",
       "      <td>11497</td>\n",
       "      <td>82</td>\n",
       "      <td>1</td>\n",
       "      <td>2021-07-08 02:14:23</td>\n",
       "    </tr>\n",
       "    <tr>\n",
       "      <th>597368</th>\n",
       "      <td>11498</td>\n",
       "      <td>79</td>\n",
       "      <td>1</td>\n",
       "      <td>2021-07-08 02:14:28</td>\n",
       "    </tr>\n",
       "    <tr>\n",
       "      <th>597369</th>\n",
       "      <td>11499</td>\n",
       "      <td>81</td>\n",
       "      <td>1</td>\n",
       "      <td>2021-07-08 02:14:33</td>\n",
       "    </tr>\n",
       "    <tr>\n",
       "      <th>597370</th>\n",
       "      <td>11500</td>\n",
       "      <td>83</td>\n",
       "      <td>1</td>\n",
       "      <td>2021-07-08 02:14:38</td>\n",
       "    </tr>\n",
       "  </tbody>\n",
       "</table>\n",
       "<p>597371 rows × 4 columns</p>\n",
       "</div>"
      ],
      "text/plain": [
       "        index  bpm  confidence            dateTime\n",
       "0           0   70           1 2021-05-12 21:56:02\n",
       "1           1   80           1 2021-05-12 21:56:07\n",
       "2           2   84           1 2021-05-12 21:56:17\n",
       "3           3   80           1 2021-05-12 21:56:22\n",
       "4           4   77           1 2021-05-12 21:56:27\n",
       "...       ...  ...         ...                 ...\n",
       "597366  11496   83           1 2021-07-08 02:14:18\n",
       "597367  11497   82           1 2021-07-08 02:14:23\n",
       "597368  11498   79           1 2021-07-08 02:14:28\n",
       "597369  11499   81           1 2021-07-08 02:14:33\n",
       "597370  11500   83           1 2021-07-08 02:14:38\n",
       "\n",
       "[597371 rows x 4 columns]"
      ]
     },
     "execution_count": 166,
     "metadata": {},
     "output_type": "execute_result"
    }
   ],
   "source": [
    "hr_data"
   ]
  }
 ],
 "metadata": {
  "kernelspec": {
   "display_name": "Python 3",
   "language": "python",
   "name": "python3"
  },
  "language_info": {
   "codemirror_mode": {
    "name": "ipython",
    "version": 3
   },
   "file_extension": ".py",
   "mimetype": "text/x-python",
   "name": "python",
   "nbconvert_exporter": "python",
   "pygments_lexer": "ipython3",
   "version": "3.8.5"
  }
 },
 "nbformat": 4,
 "nbformat_minor": 4
}
